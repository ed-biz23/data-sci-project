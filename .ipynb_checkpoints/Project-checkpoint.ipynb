{
 "cells": [
  {
   "cell_type": "markdown",
   "metadata": {},
   "source": [
    "Edward Biswas"
   ]
  },
  {
   "cell_type": "code",
   "execution_count": 2,
   "metadata": {},
   "outputs": [],
   "source": [
    "import matplotlib.pyplot as plt\n",
    "import pandas as pd\n",
    "import numpy as np\n",
    "import scipy.stats as stats\n",
    "\n",
    "%matplotlib inline"
   ]
  },
  {
   "cell_type": "code",
   "execution_count": 3,
   "metadata": {},
   "outputs": [],
   "source": [
    "data = pd.read_csv('StockX-Data-Contest-2019-3.csv')"
   ]
  },
  {
   "cell_type": "code",
   "execution_count": 4,
   "metadata": {},
   "outputs": [
    {
     "name": "stdout",
     "output_type": "stream",
     "text": [
      "<class 'pandas.core.frame.DataFrame'>\n",
      "RangeIndex: 99956 entries, 0 to 99955\n",
      "Data columns (total 8 columns):\n",
      "Order Date      99956 non-null object\n",
      "Brand           99956 non-null object\n",
      "Sneaker Name    99956 non-null object\n",
      "Sale Price      99956 non-null object\n",
      "Retail Price    99956 non-null object\n",
      "Release Date    99956 non-null object\n",
      "Shoe Size       99956 non-null float64\n",
      "Buyer Region    99956 non-null object\n",
      "dtypes: float64(1), object(7)\n",
      "memory usage: 6.1+ MB\n"
     ]
    }
   ],
   "source": [
    "data.info()"
   ]
  },
  {
   "cell_type": "code",
   "execution_count": 5,
   "metadata": {},
   "outputs": [
    {
     "data": {
      "text/html": [
       "<div>\n",
       "<style scoped>\n",
       "    .dataframe tbody tr th:only-of-type {\n",
       "        vertical-align: middle;\n",
       "    }\n",
       "\n",
       "    .dataframe tbody tr th {\n",
       "        vertical-align: top;\n",
       "    }\n",
       "\n",
       "    .dataframe thead th {\n",
       "        text-align: right;\n",
       "    }\n",
       "</style>\n",
       "<table border=\"1\" class=\"dataframe\">\n",
       "  <thead>\n",
       "    <tr style=\"text-align: right;\">\n",
       "      <th></th>\n",
       "      <th>Order Date</th>\n",
       "      <th>Brand</th>\n",
       "      <th>Sneaker Name</th>\n",
       "      <th>Sale Price</th>\n",
       "      <th>Retail Price</th>\n",
       "      <th>Release Date</th>\n",
       "      <th>Shoe Size</th>\n",
       "      <th>Buyer Region</th>\n",
       "    </tr>\n",
       "  </thead>\n",
       "  <tbody>\n",
       "    <tr>\n",
       "      <th>0</th>\n",
       "      <td>9/1/17</td>\n",
       "      <td>Yeezy</td>\n",
       "      <td>Adidas-Yeezy-Boost-350-Low-V2-Beluga</td>\n",
       "      <td>$1,097</td>\n",
       "      <td>$220</td>\n",
       "      <td>9/24/16</td>\n",
       "      <td>11.0</td>\n",
       "      <td>California</td>\n",
       "    </tr>\n",
       "    <tr>\n",
       "      <th>1</th>\n",
       "      <td>9/1/17</td>\n",
       "      <td>Yeezy</td>\n",
       "      <td>Adidas-Yeezy-Boost-350-V2-Core-Black-Copper</td>\n",
       "      <td>$685</td>\n",
       "      <td>$220</td>\n",
       "      <td>11/23/16</td>\n",
       "      <td>11.0</td>\n",
       "      <td>California</td>\n",
       "    </tr>\n",
       "    <tr>\n",
       "      <th>2</th>\n",
       "      <td>9/1/17</td>\n",
       "      <td>Yeezy</td>\n",
       "      <td>Adidas-Yeezy-Boost-350-V2-Core-Black-Green</td>\n",
       "      <td>$690</td>\n",
       "      <td>$220</td>\n",
       "      <td>11/23/16</td>\n",
       "      <td>11.0</td>\n",
       "      <td>California</td>\n",
       "    </tr>\n",
       "    <tr>\n",
       "      <th>3</th>\n",
       "      <td>9/1/17</td>\n",
       "      <td>Yeezy</td>\n",
       "      <td>Adidas-Yeezy-Boost-350-V2-Core-Black-Red</td>\n",
       "      <td>$1,075</td>\n",
       "      <td>$220</td>\n",
       "      <td>11/23/16</td>\n",
       "      <td>11.5</td>\n",
       "      <td>Kentucky</td>\n",
       "    </tr>\n",
       "    <tr>\n",
       "      <th>4</th>\n",
       "      <td>9/1/17</td>\n",
       "      <td>Yeezy</td>\n",
       "      <td>Adidas-Yeezy-Boost-350-V2-Core-Black-Red-2017</td>\n",
       "      <td>$828</td>\n",
       "      <td>$220</td>\n",
       "      <td>2/11/17</td>\n",
       "      <td>11.0</td>\n",
       "      <td>Rhode Island</td>\n",
       "    </tr>\n",
       "  </tbody>\n",
       "</table>\n",
       "</div>"
      ],
      "text/plain": [
       "  Order Date   Brand                                   Sneaker Name  \\\n",
       "0     9/1/17   Yeezy           Adidas-Yeezy-Boost-350-Low-V2-Beluga   \n",
       "1     9/1/17   Yeezy    Adidas-Yeezy-Boost-350-V2-Core-Black-Copper   \n",
       "2     9/1/17   Yeezy     Adidas-Yeezy-Boost-350-V2-Core-Black-Green   \n",
       "3     9/1/17   Yeezy       Adidas-Yeezy-Boost-350-V2-Core-Black-Red   \n",
       "4     9/1/17   Yeezy  Adidas-Yeezy-Boost-350-V2-Core-Black-Red-2017   \n",
       "\n",
       "  Sale Price Retail Price Release Date  Shoe Size  Buyer Region  \n",
       "0     $1,097         $220      9/24/16       11.0    California  \n",
       "1       $685         $220     11/23/16       11.0    California  \n",
       "2       $690         $220     11/23/16       11.0    California  \n",
       "3     $1,075         $220     11/23/16       11.5      Kentucky  \n",
       "4       $828         $220      2/11/17       11.0  Rhode Island  "
      ]
     },
     "execution_count": 5,
     "metadata": {},
     "output_type": "execute_result"
    }
   ],
   "source": [
    "data.head()"
   ]
  },
  {
   "cell_type": "code",
   "execution_count": 6,
   "metadata": {},
   "outputs": [],
   "source": [
    "# group_state = data.groupby('Buyer Region')"
   ]
  },
  {
   "cell_type": "code",
   "execution_count": 23,
   "metadata": {},
   "outputs": [
    {
     "ename": "SyntaxError",
     "evalue": "keyword can't be an expression (<ipython-input-23-5fc9d5441197>, line 2)",
     "output_type": "error",
     "traceback": [
      "\u001b[0;36m  File \u001b[0;32m\"<ipython-input-23-5fc9d5441197>\"\u001b[0;36m, line \u001b[0;32m2\u001b[0m\n\u001b[0;31m    type(data['Sale Price'] = data['Sale Price'].astype(str))\u001b[0m\n\u001b[0m        ^\u001b[0m\n\u001b[0;31mSyntaxError\u001b[0m\u001b[0;31m:\u001b[0m keyword can't be an expression\n"
     ]
    }
   ],
   "source": [
    "data['Sale Price'] = data['Sale Price'].astype(str))"
   ]
  },
  {
   "cell_type": "code",
   "execution_count": 21,
   "metadata": {},
   "outputs": [
    {
     "name": "stdout",
     "output_type": "stream",
     "text": [
      "<class 'pandas.core.frame.DataFrame'>\n",
      "RangeIndex: 99956 entries, 0 to 99955\n",
      "Data columns (total 8 columns):\n",
      "Order Date      99956 non-null object\n",
      "Brand           99956 non-null object\n",
      "Sneaker Name    99956 non-null object\n",
      "Sale Price      99956 non-null object\n",
      "Retail Price    99956 non-null object\n",
      "Release Date    99956 non-null object\n",
      "Shoe Size       99956 non-null float64\n",
      "Buyer Region    99956 non-null object\n",
      "dtypes: float64(1), object(7)\n",
      "memory usage: 6.1+ MB\n"
     ]
    }
   ],
   "source": [
    "data.info()"
   ]
  },
  {
   "cell_type": "code",
   "execution_count": null,
   "metadata": {},
   "outputs": [],
   "source": []
  }
 ],
 "metadata": {
  "kernelspec": {
   "display_name": "Python 3",
   "language": "python",
   "name": "python3"
  },
  "language_info": {
   "codemirror_mode": {
    "name": "ipython",
    "version": 3
   },
   "file_extension": ".py",
   "mimetype": "text/x-python",
   "name": "python",
   "nbconvert_exporter": "python",
   "pygments_lexer": "ipython3",
   "version": "3.7.3"
  }
 },
 "nbformat": 4,
 "nbformat_minor": 2
}
